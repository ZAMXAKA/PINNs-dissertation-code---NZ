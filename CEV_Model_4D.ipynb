{
 "cells": [
  {
   "cell_type": "code",
   "execution_count": 1,
   "id": "4090edc0",
   "metadata": {},
   "outputs": [
    {
     "data": {
      "text/plain": [
       "TaskLocalRNG()"
      ]
     },
     "execution_count": 1,
     "metadata": {},
     "output_type": "execute_result"
    }
   ],
   "source": [
    "using NeuralPDE, Lux, Plots, Random, Distributions, Optim , OptimizationOptimJL\n",
    "using IntegralsCubature, FinancialToolbox\n",
    "using ModelingToolkit: Interval\n",
    "Random.seed!(0)\n",
    "\n"
   ]
  },
  {
   "cell_type": "code",
   "execution_count": 2,
   "id": "eb5734d3",
   "metadata": {},
   "outputs": [
    {
     "data": {
      "text/plain": [
       "boundary_func (generic function with 1 method)"
      ]
     },
     "execution_count": 2,
     "metadata": {},
     "output_type": "execute_result"
    }
   ],
   "source": [
    "σ_min = 1.5\n",
    "σ_max = 2.5\n",
    "r_min = 0.05\n",
    "r_max = 0.15\n",
    "σ_mid = (σ_min + σ_max)/2\n",
    "r_mid = (r_min + r_max)/2\n",
    "α = 0.5\n",
    "K = 100 # strike is 100\n",
    "T = 1 #one year \n",
    "Smin = 80\n",
    "Smax = 120 # stock range make it 20% in-the-money and out-the-money\n",
    "scaling_factor = 0.005\n",
    "boundary_func(s) = max(s - K,0)*scaling_factor"
   ]
  },
  {
   "cell_type": "code",
   "execution_count": 3,
   "id": "4ae15eb7",
   "metadata": {},
   "outputs": [
    {
     "data": {
      "text/plain": [
       "CEV_call (generic function with 1 method)"
      ]
     },
     "execution_count": 3,
     "metadata": {},
     "output_type": "execute_result"
    }
   ],
   "source": [
    "κ(σ,r,tau) = 2*r/(σ^(2*(1 - α))*(exp(2*r*(1-α)*tau)-1))\n",
    "a(x,σ,r,tau) = κ(σ,r,tau)*x.^(2*(1 - α))*exp(2*r*(1 - α)*tau)\n",
    "b(σ,r,tau) = κ(σ,r,tau)*K^(2*(1 - α))\n",
    "c = 2 + (1/(1 - α))\n",
    "F(x,σ,r,tau) = Distributions.NoncentralChisq(c,a(x,σ,r,tau))\n",
    "G(σ,r,tau) = Distributions.NoncentralChisq(c - 2,b(σ,r,tau))\n",
    "function CEV_call(x,σ,r,tau)\n",
    "    x*(1 - Distributions.cdf(F(x,σ,r,tau), b(σ,r,tau))) - K*exp(-r*tau)*Distributions.cdf(G(σ,r,tau), a(x,σ,r,tau))\n",
    "end"
   ]
  },
  {
   "cell_type": "code",
   "execution_count": 4,
   "id": "d32a9a2d",
   "metadata": {},
   "outputs": [
    {
     "data": {
      "text/plain": [
       "4-element Vector{Symbolics.VarDomainPairing}:\n",
       " Symbolics.VarDomainPairing(t, 0..1)\n",
       " Symbolics.VarDomainPairing(s, 80..120)\n",
       " Symbolics.VarDomainPairing(σ, 1.5..2.5)\n",
       " Symbolics.VarDomainPairing(r, 0.05..0.15)"
      ]
     },
     "execution_count": 4,
     "metadata": {},
     "output_type": "execute_result"
    }
   ],
   "source": [
    "# 4D PDE in (t, s)\n",
    "@parameters t s σ r\n",
    "@variables U(..)\n",
    "Dt = Differential(t)\n",
    "Ds = Differential(s)\n",
    "Dss = Differential(s)^2\n",
    "\n",
    "eq = Dt(U(t, s, σ, r)) + r*s*Ds(U(t, s, σ, r)) + 1/2*σ^2*s^(2*α)*Dss(U(t, s, σ, r)) - r*U(t, s, σ, r) ~ 0\n",
    "\n",
    "# Boundary Conditions\n",
    "boundary_conditions = [U(T, s, σ, r) ~ boundary_func(s)]\n",
    "\n",
    "# Problem Domain\n",
    "domains = [t ∈ Interval(0, T), s ∈ Interval(Smin, Smax),\n",
    "           σ ∈ Interval(σ_min,σ_max), r ∈ Interval(r_min,r_max)]"
   ]
  },
  {
   "cell_type": "code",
   "execution_count": 5,
   "id": "a40ac7f5",
   "metadata": {},
   "outputs": [
    {
     "data": {
      "text/plain": [
       "\u001b[38;2;86;182;194mOptimizationProblem\u001b[0m. In-place: \u001b[38;2;86;182;194mtrue\u001b[0m\n",
       "u0: \u001b[0mComponentVector{Float32}(layer_1 = (weight = Float32[-0.48351604 0.40789896 0.40354213 0.099549524; -0.049033877 -0.18695378 -0.421895 -0.093530044; … ; -0.22635894 4.831728f-6 0.23992884 -0.3143545; 0.52216566 -0.032581452 -0.35231933 0.07687697], bias = Float32[0.0; 0.0; … ; 0.0; 0.0;;]), layer_2 = (weight = Float32[0.15251705 0.39284882 … -0.022368534 0.20915501; -0.2943246 0.08905726 … 0.2225429 -0.1315318; … ; -0.42614084 -0.41936278 … -0.3245835 -0.14442606; 0.047960266 0.27465823 … 0.005657302 0.058415208], bias = Float32[0.0; 0.0; … ; 0.0; 0.0;;]), layer_3 = (weight = Float32[0.28811473 0.36900693 … -0.37211332 0.019529067; 0.14447463 -0.24254143 … -0.29063964 0.09696433; … ; -0.39559042 0.25605455 … -0.063562825 -0.16985989; 0.1261293 -0.20957911 … 0.052887935 0.37911317], bias = Float32[0.0; 0.0; … ; 0.0; 0.0;;]), layer_4 = (weight = Float32[-0.45333603 -0.07046209 … 0.20396504 -0.3476128], bias = Float32[0.0;;]))"
      ]
     },
     "execution_count": 5,
     "metadata": {},
     "output_type": "execute_result"
    }
   ],
   "source": [
    "dim = 4\n",
    "chain = Lux.Chain(Dense(dim, 16, Lux.σ), Dense(16, 16, Lux.σ), Dense(16, 16, Lux.σ), Dense(16, 1))\n",
    "ps = Lux.setup(Random.default_rng(), chain)[1]\n",
    "\n",
    "# Transform PDESystem into OptimizationProblem using PINN methodology\n",
    "strategy = QuadratureTraining()\n",
    "#strategy = QuadratureTraining(quadrature_alg = CubatureJLh(),\n",
    "                     #reltol = 1e-6, abstol = 1e-3,\n",
    "                     #maxiters = 2_500, batch = 500)\n",
    "discretization_algo = PhysicsInformedNN(chain, strategy, init_params=ps)\n",
    "@named pde_system = PDESystem(eq, boundary_conditions, domains, [t, s, σ, r], [U(t, s, σ, r)])\n",
    "optim_prob = discretize(pde_system, discretization_algo)"
   ]
  },
  {
   "cell_type": "code",
   "execution_count": 6,
   "id": "2f148a19",
   "metadata": {},
   "outputs": [],
   "source": [
    "using TickTock"
   ]
  },
  {
   "cell_type": "code",
   "execution_count": null,
   "id": "b471dd28",
   "metadata": {},
   "outputs": [
    {
     "name": "stderr",
     "output_type": "stream",
     "text": [
      "\u001b[36m\u001b[1m[ \u001b[22m\u001b[39m\u001b[36m\u001b[1mInfo: \u001b[22m\u001b[39m started timer at: 2023-01-26T11:49:46.814\n"
     ]
    },
    {
     "name": "stdout",
     "output_type": "stream",
     "text": [
      "Current loss is: 0.04761720036606123\n",
      "Current loss is: 0.04672005433908653\n",
      "Current loss is: 0.046523851962177586\n",
      "Current loss is: 0.046436025821978255\n",
      "Current loss is: 0.046272887140173566\n",
      "Current loss is: 0.045908099585647\n",
      "Current loss is: 0.04583506757491798\n",
      "Current loss is: 0.045662065885278144\n",
      "Current loss is: 0.04516464901436386\n",
      "Current loss is: 0.04485483584303401\n",
      "Current loss is: 0.04482317885565285\n",
      "Current loss is: 0.044744808035205905\n",
      "Current loss is: 0.044437752631579945\n",
      "Current loss is: 0.04433120267199507\n",
      "Current loss is: 0.04363869920482783\n",
      "Current loss is: 0.042394811519040496\n",
      "Current loss is: 0.03697802133514423\n",
      "Current loss is: 0.03664337765655872\n",
      "Current loss is: 0.034531967825945455\n",
      "Current loss is: 0.030169939603856864\n",
      "Current loss is: 0.02870300311849176\n",
      "Current loss is: 0.02865626323571464\n",
      "Current loss is: 0.02588260019287434\n",
      "Current loss is: 0.024532287386413793\n",
      "Current loss is: 0.024192071581487826\n",
      "Current loss is: 0.022852969270180604\n",
      "Current loss is: 0.022479956290950783\n",
      "Current loss is: 0.022392340530375466\n",
      "Current loss is: 0.022258142387702826\n",
      "Current loss is: 0.022231653262792323\n",
      "Current loss is: 0.02120735601296522\n",
      "Current loss is: 0.020897986471061326\n",
      "Current loss is: 0.020078238178535806\n",
      "Current loss is: 0.01916820509702277\n",
      "Current loss is: 0.018698002460119677\n",
      "Current loss is: 0.01806686603829247\n",
      "Current loss is: 0.01798358039892611\n",
      "Current loss is: 0.017117834878466433\n",
      "Current loss is: 0.0169443145855066\n",
      "Current loss is: 0.0168506351443953\n",
      "Current loss is: 0.016671693050095415\n",
      "Current loss is: 0.016368646434606213\n",
      "Current loss is: 0.016215547564874516\n",
      "Current loss is: 0.016134897383889596\n",
      "Current loss is: 0.016026973658695515\n",
      "Current loss is: 0.01595037755284551\n",
      "Current loss is: 0.015942284106480673\n",
      "Current loss is: 0.015942176557781653\n",
      "Current loss is: 0.015929437310440393\n",
      "Current loss is: 0.015794463989383535\n",
      "Current loss is: 0.01567140247361248\n",
      "Current loss is: 0.015625849010832256\n",
      "Current loss is: 0.015615682833619252\n",
      "Current loss is: 0.015535658997861098\n",
      "Current loss is: 0.01553242094318016\n",
      "Current loss is: 0.015532011450208365\n",
      "Current loss is: 0.015524162343687122\n",
      "Current loss is: 0.01551382017098751\n",
      "Current loss is: 0.015513709615372366\n",
      "Current loss is: 0.01550577945977274\n",
      "Current loss is: 0.015499989054653043\n",
      "Current loss is: 0.0154987855763581\n",
      "Current loss is: 0.015495371872109774\n",
      "Current loss is: 0.01546543887527846\n",
      "Current loss is: 0.015394323981591077\n",
      "Current loss is: 0.015304759008396169\n",
      "Current loss is: 0.01528401363033524\n",
      "Current loss is: 0.015248221821639218\n",
      "Current loss is: 0.015231597365079456\n",
      "Current loss is: 0.01522689399115427\n",
      "Current loss is: 0.015225150989335332\n",
      "Current loss is: 0.01521594166392227\n",
      "Current loss is: 0.015209388482298618\n",
      "Current loss is: 0.015186278480493047\n",
      "Current loss is: 0.01509179174093631\n",
      "Current loss is: 0.014981795975481833\n",
      "Current loss is: 0.014975381028213913\n",
      "Current loss is: 0.014973044255883208\n",
      "Current loss is: 0.014944602826582\n",
      "Current loss is: 0.014924401233743938\n",
      "Current loss is: 0.014909616860076516\n",
      "Current loss is: 0.014907507130991352\n",
      "Current loss is: 0.014868263284008466\n",
      "Current loss is: 0.014849789414692255\n",
      "Current loss is: 0.01481055717112356\n",
      "Current loss is: 0.014589972470110672\n",
      "Current loss is: 0.01454774356060312\n",
      "Current loss is: 0.014547486698351087\n",
      "Current loss is: 0.013895204350615446\n",
      "Current loss is: 0.013564106882709065\n",
      "Current loss is: 0.013553346904707667\n",
      "Current loss is: 0.013260421321680387\n",
      "Current loss is: 0.013200073793893619\n",
      "Current loss is: 0.013047345800784753\n",
      "Current loss is: 0.012881571115682167\n",
      "Current loss is: 0.012878959156712158\n",
      "Current loss is: 0.012840594351350753\n",
      "Current loss is: 0.012796409803171132\n",
      "Current loss is: 0.012761211343669079\n",
      "Current loss is: 0.01271819013616726\n",
      "Current loss is: 0.012551090219623815\n",
      "Current loss is: 0.012419297624634593\n",
      "Current loss is: 0.01235291327002438\n",
      "Current loss is: 0.012302526140088026\n",
      "Current loss is: 0.012155592038122137\n",
      "Current loss is: 0.012142924252197063\n",
      "Current loss is: 0.012136682127352257\n",
      "Current loss is: 0.012136615544108893\n",
      "Current loss is: 0.012131732773517617\n",
      "Current loss is: 0.012034618763909558\n",
      "Current loss is: 0.011874128843608871\n",
      "Current loss is: 0.011874138817459547\n",
      "Current loss is: 0.011831644386857387\n",
      "Current loss is: 0.011792201821737573\n",
      "Current loss is: 0.01179221161254283\n",
      "Current loss is: 0.011757368597612894\n",
      "Current loss is: 0.011711028988735737\n",
      "Current loss is: 0.011711036074857201\n",
      "Current loss is: 0.011710394265421366\n",
      "Current loss is: 0.011649774738708353\n",
      "Current loss is: 0.01161007502171958\n",
      "Current loss is: 0.011605901610147868\n",
      "Current loss is: 0.011605874527718009\n",
      "Current loss is: 0.01147667619107783\n",
      "Current loss is: 0.011373474940503349\n",
      "Current loss is: 0.011352301284262567\n",
      "Current loss is: 0.011349052529632314\n",
      "Current loss is: 0.011139721454578417\n",
      "Current loss is: 0.011054768080703124\n",
      "Current loss is: 0.01094082126300195\n",
      "Current loss is: 0.010926248568910123\n",
      "Current loss is: 0.010879040536181165\n",
      "Current loss is: 0.010859028207768764\n",
      "Current loss is: 0.010856497925801768\n",
      "Current loss is: 0.01084238864907062\n",
      "Current loss is: 0.010681060112594388\n",
      "Current loss is: 0.01065579948014102\n",
      "Current loss is: 0.010296822520177275\n",
      "Current loss is: 0.010055302167929799\n",
      "Current loss is: 0.010048873523854602\n",
      "Current loss is: 0.01003515225838566\n",
      "Current loss is: 0.00999689010422948\n",
      "Current loss is: 0.009645967448581356\n",
      "Current loss is: 0.009449788365942643\n",
      "Current loss is: 0.009083699819764715\n",
      "Current loss is: 0.008986976740593193\n",
      "Current loss is: 0.008551133066093477\n",
      "Current loss is: 0.00819944090925738\n",
      "Current loss is: 0.008197616309816441\n",
      "Current loss is: 0.00817868721123354\n",
      "Current loss is: 0.008150628299683644\n",
      "Current loss is: 0.008122455973401421\n",
      "Current loss is: 0.008109566360432346\n",
      "Current loss is: 0.008065354331423687\n",
      "Current loss is: 0.008001944909387961\n",
      "Current loss is: 0.007963944834765264\n",
      "Current loss is: 0.007929648218500226\n",
      "Current loss is: 0.007928326582152583\n",
      "Current loss is: 0.007927568983798804\n",
      "Current loss is: 0.007920749523591349\n",
      "Current loss is: 0.007902550194291202\n",
      "Current loss is: 0.007579530597657159\n",
      "Current loss is: 0.007459588181342841\n"
     ]
    }
   ],
   "source": [
    "tick()\n",
    "\n",
    "callback = function (p,l)\n",
    "    println(\"Current loss is: $l\")\n",
    "    return false\n",
    "end\n",
    "\n",
    "\n",
    "opt = BFGS()\n",
    "result = Optimization.solve(optim_prob, opt, callback = callback, maxiters=2500, reltol=1e-6)\n",
    "result.original\n",
    "phi = discretization_algo.phi\n",
    "\n",
    "tock()"
   ]
  },
  {
   "cell_type": "code",
   "execution_count": null,
   "id": "de42fcd4",
   "metadata": {},
   "outputs": [],
   "source": [
    "dx = 0.5\n",
    "x_domain = Smin:dx:Smax\n",
    "S_domain = collect(x_domain)\n",
    "\n",
    "times = [0, 0.25, 0.5, 1]\n",
    "tau = T .- times\n",
    "plots = Array{Plots.Plot{Plots.GRBackend},1}()\n",
    "for i in 1:(length(times))-1\n",
    "    current_t = times[i]\n",
    "    current_tau = tau[i]\n",
    "    u_predict = [phi([current_t, current_x, σ_mid, r_mid],result.u) for current_x in x_domain]\n",
    "    u_predict = reduce(vcat, u_predict)/scaling_factor\n",
    "    u_true = CEV_call.(S_domain, σ_mid, r_mid, current_tau)\n",
    "    push!(plots, plot(S_domain, [u_true, u_predict], label= [\"CEV_True\" \"PINN\"],legend=:topleft, title=\"Tau = $(current_tau)\"))\n",
    "    #push!(plots, plot(S_domain, V_predict, label=\"\"))\n",
    "end\n",
    "\n",
    "u_predict = [phi([times[4], current_x, σ_mid, r_mid],result.u) for current_x in x_domain]\n",
    "u_predict = reduce(vcat, u_predict)/scaling_factor\n",
    "\n",
    "\n",
    "u_true = collect(max.(S_domain .- K,0))\n",
    "u_true = reduce(vcat, u_true)\n",
    "\n",
    "push!(plots, plot(S_domain, [u_true, u_predict], label= [\"CEV_True\" \"PINN\"],legend=:topleft, title=\"Tau = 0\"))\n",
    "\n",
    "\n",
    "\n",
    "plot(plots[1], plots[2], plots[3], plots[4], layout = 4)"
   ]
  },
  {
   "cell_type": "code",
   "execution_count": null,
   "id": "07fee188",
   "metadata": {},
   "outputs": [],
   "source": [
    "dx = 0.5\n",
    "x_domain = Smin:dx:Smax\n",
    "S_domain = collect(x_domain)\n",
    "#S_domain = Float32.(S_domain)\n",
    "\n",
    "\n",
    "times = [0, 0.25, 0.5, 1]\n",
    "#plots = Array{Plots.Plot{Plots.GRBackend},1}()\n",
    "\n",
    "u_predict1 = [phi([times[1], current_x, σ_mid, r_mid],result.u) for current_x in S_domain]\n",
    "u_predict1 = reduce(vcat, u_predict1)/scaling_factor\n",
    "u_true1 = CEV_call.(S_domain, σ_mid, r_mid, tau[1])\n",
    "u_predict2 = [phi([times[2], current_x, σ_mid, r_mid],result.u) for current_x in S_domain]\n",
    "u_predict2 = reduce(vcat, u_predict2)/scaling_factor\n",
    "u_true2 = CEV_call.(S_domain, σ_mid, r_mid, tau[2])\n",
    "u_predict3 = [phi([times[3], current_x, σ_mid, r_mid],result.u) for current_x in S_domain]\n",
    "u_predict3 = reduce(vcat, u_predict3)/scaling_factor\n",
    "u_true3 = CEV_call.(S_domain, σ_mid, r_mid, tau[3])\n",
    "u_predict4 = [phi([times[4], current_x, σ_mid, r_mid],result.u) for current_x in S_domain]\n",
    "u_predict4 = reduce(vcat, u_predict4)/scaling_factor\n",
    "u_true4 = collect(max.(S_domain .- K,0))\n",
    "u_true4 = reduce(vcat, u_true4)\n"
   ]
  },
  {
   "cell_type": "code",
   "execution_count": null,
   "id": "c94dd426",
   "metadata": {},
   "outputs": [],
   "source": [
    "using GLMakie\n",
    "using ColorSchemes\n",
    "GLMakie.activate!()"
   ]
  },
  {
   "cell_type": "code",
   "execution_count": null,
   "id": "3f619ebc",
   "metadata": {},
   "outputs": [],
   "source": [
    "using PyPlot\n",
    "\n",
    "fig = figure(figsize=(10, 10), dpi=1200);\n",
    "#subplots_adjust(hspace=0.5,wspace=0.9)\n",
    "subplot(221) ;  PyPlot.plot(x_domain,u_predict1,color = \"blue\",label = \"PINN\"); PyPlot.plot(x_domain,u_true1,color = \"magenta\", label = \"Analytical\");\n",
    "PyPlot.title(\"Time = 0\",fontweight=\"bold\") ; xlabel(\"S\") ; ylabel(\"Call prices\")\n",
    "; PyPlot.legend(loc=\"upper left\")\n",
    "\n",
    "subplot(222) ;  PyPlot.plot(x_domain,u_predict2,color = \"blue\",label = \"PINN\"); PyPlot.plot(x_domain,u_true2,color = \"magenta\", label = \"Analytical\");\n",
    "PyPlot.title(\"Time = 0.25\",fontweight=\"bold\") ; xlabel(\"S\") ; ylabel(\"Call prices\")\n",
    "; PyPlot.legend(loc=\"upper left\")\n",
    "\n",
    "subplot(223) ;  PyPlot.plot(x_domain,u_predict3,color = \"blue\",label = \"PINN\"); PyPlot.plot(x_domain,u_true3,color = \"magenta\", label = \"Analytical\");\n",
    "PyPlot.title(\"Time = 0.5\",fontweight=\"bold\") ; xlabel(\"S\") ; ylabel(\"Call prices\")\n",
    "; PyPlot.legend(loc=\"upper left\")\n",
    "\n",
    "subplot(224) ;  PyPlot.plot(x_domain,u_predict4,color = \"blue\",label = \"PINN\"); PyPlot.plot(x_domain,u_true4,color = \"magenta\", label = \"Analytical\");\n",
    "PyPlot.title(\"Time = 1\",fontweight=\"bold\") ; xlabel(\"S\") ; ylabel(\"Call prices\")\n",
    "; PyPlot.legend(loc=\"upper left\")\n",
    "\n",
    "fig\n",
    "save(\"./Fig_7.png\", fig)"
   ]
  },
  {
   "cell_type": "code",
   "execution_count": null,
   "id": "329d33a4",
   "metadata": {},
   "outputs": [],
   "source": [
    "\n",
    "\n",
    "ts = collect(range(0,T,length=100))\n",
    "xs = collect(range(Smin,Smax,length=100))\n",
    "σs = collect(range(σ_min,σ_max,length=100))\n",
    "rs = collect(range(r_min,r_max,length=100))\n",
    "\n",
    "meshgrid(x, ys) = [x[i] for i in 1:length(x), j in length(ys)], [ys[j] for j in 1:length(ys), i in 1:length(x)]\n",
    "domain_x, domain_t = meshgrid(xs,ts)    #use domain_t as meshgrid for time\n",
    "domain_y2, domain_s = meshgrid(ts,xs)   #use domain_s as meshgrid for stock prices\n",
    "domain_x, domain_σ = meshgrid(xs,σs)    #use domain_σ as meshgrid for σ range\n",
    "domain_x, domain_r = meshgrid(xs,rs)    #use domain_r as meshgrid for r range "
   ]
  },
  {
   "cell_type": "code",
   "execution_count": null,
   "id": "439eaabd",
   "metadata": {},
   "outputs": [],
   "source": [
    "predict_matrix1 = zeros(length(ts),length(xs))\n",
    "analytical_matrix1 = zeros(length(ts),length(xs))\n",
    "for i in 1:length(ts)\n",
    "    time = ts[i]\n",
    "    tau_val = T - time\n",
    "    predict1 = [phi([time, stock, σ_mid, r_mid],result.u) for stock in xs]\n",
    "    predict1 = reduce(vcat, predict1)/scaling_factor\n",
    "    u_true1 = [CEV_call.(ss, σ_mid, r_mid, tau_val) for ss in xs]\n",
    "    predict_matrix1[:,i] = predict1\n",
    "    analytical_matrix1[:,i] = u_true1\n",
    "end"
   ]
  },
  {
   "cell_type": "code",
   "execution_count": null,
   "id": "deed5550",
   "metadata": {},
   "outputs": [],
   "source": [
    "predict_matrix2 = zeros(length(σs),length(xs))\n",
    "analytical_matrix2 = zeros(length(σs),length(xs))\n",
    "for i in 1:length(σs)\n",
    "    current_σ = σs[i]\n",
    "    predict2 = [phi([0, stock, current_σ, r_mid],result.u) for stock in xs]\n",
    "    predict2 = reduce(vcat, predict2)/scaling_factor\n",
    "    u_true2 = [CEV_call.(ss, current_σ, r_mid, tau[1]) for ss in xs]\n",
    "    predict_matrix2[:,i] = predict2\n",
    "    analytical_matrix2[:,i] = u_true2\n",
    "end"
   ]
  },
  {
   "cell_type": "code",
   "execution_count": null,
   "id": "f5cce9d7",
   "metadata": {},
   "outputs": [],
   "source": [
    "# first plot\n",
    "\n",
    " \n",
    "#using LaTeXStrings\n",
    "\n",
    "fig = GLMakie.Figure(resolution=(1400, 600), fontsize = 22)\n",
    "ax1 = Axis3(fig[1, 1], perspectiveness=0.2, xlabel = \"S\", ylabel = \"t\", zlabel = \"Call Price\",\n",
    "    title = \"CEV PINN\")\n",
    "ax2 = Axis3(fig[1, 2], perspectiveness=0.2, xlabel = \"S\", ylabel = \"t\", zlabel = \" Call Price\",\n",
    "    title = \" CEV Analytical solution\")\n",
    "\n",
    "GLMakie.surface!(ax1, domain_s , domain_t', predict_matrix1 , transparency = true)\n",
    "GLMakie.surface!(ax2, domain_s, domain_t', analytical_matrix1 , transparency = true)\n",
    "save(\"./Fig_8.png\", fig)\n",
    "fig"
   ]
  },
  {
   "cell_type": "code",
   "execution_count": null,
   "id": "670568e0",
   "metadata": {},
   "outputs": [],
   "source": [
    "#second plot\n",
    "\n",
    "\n",
    "fig = GLMakie.Figure(resolution=(1200, 600), fontsize = 22)\n",
    "ax1 = Axis3(fig[1, 1], perspectiveness=0.2, xlabel = \"S\", ylabel = \"t\", zlabel = \"Absolute error\",\n",
    "    title = \"Absolute error\")\n",
    "\n",
    "\n",
    "GLMakie.surface!(ax1, domain_s , domain_t', abs.(analytical_matrix1 .- predict_matrix1) , transparency = true)\n",
    "\n",
    "save(\"./Fig_9.png\", fig)\n",
    "fig"
   ]
  },
  {
   "cell_type": "code",
   "execution_count": null,
   "id": "459cf80c",
   "metadata": {},
   "outputs": [],
   "source": [
    "\n",
    "# Third plot\n",
    "\n",
    "#solar = ColorSchemes.solar.colors\n",
    "fig = GLMakie.Figure(resolution=(1400, 600), fontsize = 22)\n",
    "ax1 = Axis3(fig[1, 1], perspectiveness=0.2, xlabel = \"S\", ylabel = \"σ\", zlabel = \"Call Price\",\n",
    "    title = \"CEV PINN\")\n",
    "ax2 = Axis3(fig[1, 2], perspectiveness=0.2, xlabel = \"S\", ylabel = \"σ\", zlabel = \" Call Price\",\n",
    "    title = \" CEV Analytical\")\n",
    "\n",
    "GLMakie.surface!(ax1, domain_s , domain_σ', predict_matrix2 , transparency = true, colormap = ColorSchemes.autumn1)\n",
    "GLMakie.surface!(ax2, domain_s, domain_σ', analytical_matrix2 , transparency = true, colormap = ColorSchemes.autumn1)\n",
    "save(\"./Fig_12.png\", fig)\n",
    "fig"
   ]
  },
  {
   "cell_type": "code",
   "execution_count": null,
   "id": "c032a612",
   "metadata": {},
   "outputs": [],
   "source": [
    "# Fourth plot\n",
    "\n",
    "fig = GLMakie.Figure(resolution=(1200, 600), fontsize = 22)\n",
    "ax1 = Axis3(fig[1, 1], perspectiveness=0.2, xlabel = \"S\", ylabel = \"σ\", zlabel = \"Absolute error\",\n",
    "    title = \"Absolute error\")\n",
    "\n",
    "\n",
    "GLMakie.surface!(ax1, domain_s , domain_σ', abs.(analytical_matrix2 .- predict_matrix2) , transparency = true,\n",
    "                    colormap = ColorSchemes.autumn1)\n",
    "\n",
    "save(\"./Fig_13.png\", fig)\n",
    "fig"
   ]
  },
  {
   "cell_type": "code",
   "execution_count": null,
   "id": "3ef20546",
   "metadata": {},
   "outputs": [],
   "source": []
  }
 ],
 "metadata": {
  "kernelspec": {
   "display_name": "Julia 1.8.0",
   "language": "julia",
   "name": "julia-1.8"
  },
  "language_info": {
   "file_extension": ".jl",
   "mimetype": "application/julia",
   "name": "julia",
   "version": "1.8.0"
  }
 },
 "nbformat": 4,
 "nbformat_minor": 5
}
