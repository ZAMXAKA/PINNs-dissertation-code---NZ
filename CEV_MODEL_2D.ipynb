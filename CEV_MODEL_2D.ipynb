{
 "cells": [
  {
   "cell_type": "code",
   "execution_count": 1,
   "id": "8f52df29",
   "metadata": {},
   "outputs": [
    {
     "data": {
      "text/plain": [
       "TaskLocalRNG()"
      ]
     },
     "execution_count": 1,
     "metadata": {},
     "output_type": "execute_result"
    }
   ],
   "source": [
    "using NeuralPDE, Lux, Plots, Random, Distributions, Optim , OptimizationOptimJL\n",
    "using IntegralsCubature, FinancialToolbox\n",
    "using ModelingToolkit: Interval\n",
    "Random.seed!(0)\n",
    "\n",
    "\n"
   ]
  },
  {
   "cell_type": "markdown",
   "id": "b5d7eefc",
   "metadata": {},
   "source": [
    "## Model parameters"
   ]
  },
  {
   "cell_type": "code",
   "execution_count": 2,
   "id": "bae4ba86",
   "metadata": {},
   "outputs": [
    {
     "data": {
      "text/plain": [
       "boundary_func (generic function with 1 method)"
      ]
     },
     "execution_count": 2,
     "metadata": {},
     "output_type": "execute_result"
    }
   ],
   "source": [
    "\n",
    "σ = 0.2*10 \n",
    "α = 0.5\n",
    "r = 0.1\n",
    "K = 100 # strike is 100\n",
    "T = 1 #one year \n",
    "Smin = 80\n",
    "Smax = 120 # stock range make it 20% in-the-money and out-the-money\n",
    "#scaling_factor = 0.05 #scaling factor that is good for boundary\n",
    "scaling_factor = 0.04 #scaling factor that is good for interior\n",
    "boundary_func(s) = max(s - K,0)*scaling_factor"
   ]
  },
  {
   "cell_type": "markdown",
   "id": "88781776",
   "metadata": {},
   "source": [
    "## Call_pricer under CEV"
   ]
  },
  {
   "cell_type": "code",
   "execution_count": 3,
   "id": "132c9b43",
   "metadata": {},
   "outputs": [
    {
     "data": {
      "text/plain": [
       "CEV_call (generic function with 1 method)"
      ]
     },
     "execution_count": 3,
     "metadata": {},
     "output_type": "execute_result"
    }
   ],
   "source": [
    "κ(tau) = 2*r/(σ^(2*(1 - α))*(exp(2*r*(1-α)*tau)-1))\n",
    "a(x,tau) = κ(tau)*x.^(2*(1 - α))*exp(2*r*(1 - α)*tau)\n",
    "b(tau) = κ(tau)*K^(2*(1 - α))\n",
    "c = 2 + (1/(1 - α))\n",
    "F(x,tau) = Distributions.NoncentralChisq(c,a(x,tau))\n",
    "G(tau) = Distributions.NoncentralChisq(c - 2,b(tau))\n",
    "function CEV_call(x,tau)\n",
    "    x*(1 - Distributions.cdf(F(x,tau), b(tau))) - K*exp(-r*tau)*Distributions.cdf(G(tau), a(x,tau))\n",
    "end"
   ]
  },
  {
   "cell_type": "markdown",
   "id": "0f377478",
   "metadata": {},
   "source": [
    "## PDE under the CEV model"
   ]
  },
  {
   "cell_type": "code",
   "execution_count": 4,
   "id": "23463720",
   "metadata": {},
   "outputs": [
    {
     "data": {
      "text/plain": [
       "2-element Vector{Symbolics.VarDomainPairing}:\n",
       " Symbolics.VarDomainPairing(t, 0..1)\n",
       " Symbolics.VarDomainPairing(s, 80..120)"
      ]
     },
     "execution_count": 4,
     "metadata": {},
     "output_type": "execute_result"
    }
   ],
   "source": [
    "# 2D PDE in (t, s)\n",
    "@parameters t s\n",
    "@variables U(..)\n",
    "Dt = Differential(t)\n",
    "Ds = Differential(s)\n",
    "Dss = Differential(s)^2\n",
    "\n",
    "eq = Dt(U(t, s)) + r*s*Ds(U(t, s)) + 1/2*σ^2*s^(2*α)*Dss(U(t, s)) - r*U(t, s) ~ 0\n",
    "\n",
    "# Boundary Conditions\n",
    "boundary_conditions = [U(T, s) ~ boundary_func(s)]\n",
    "\n",
    "# Problem Domain\n",
    "domains = [t ∈ Interval(0, T), s ∈ Interval(Smin, Smax)]"
   ]
  },
  {
   "cell_type": "code",
   "execution_count": 5,
   "id": "1f14fbaf",
   "metadata": {},
   "outputs": [
    {
     "data": {
      "text/plain": [
       "\u001b[38;2;86;182;194mOptimizationProblem\u001b[0m. In-place: \u001b[38;2;86;182;194mtrue\u001b[0m\n",
       "u0: \u001b[0mComponentVector{Float32}(layer_1 = (weight = Float32[-0.5096706 0.42996323; -0.051686242 -0.19706658; … ; -0.23860326 5.093088f-6; 0.5504109 -0.03434386], bias = Float32[0.0; 0.0; … ; 0.0; 0.0;;]), layer_2 = (weight = Float32[0.15251705 0.39284882 … -0.022368534 0.20915501; -0.2943246 0.08905726 … 0.2225429 -0.1315318; … ; -0.42614084 -0.41936278 … -0.3245835 -0.14442606; 0.047960266 0.27465823 … 0.005657302 0.058415208], bias = Float32[0.0; 0.0; … ; 0.0; 0.0;;]), layer_3 = (weight = Float32[0.3952902 0.19821757 … -0.5427456 0.17304797], bias = Float32[0.0;;]))"
      ]
     },
     "execution_count": 5,
     "metadata": {},
     "output_type": "execute_result"
    }
   ],
   "source": [
    "dim = 2\n",
    "chain = Lux.Chain(Dense(dim, 16, Lux.σ), Dense(16, 16, Lux.σ), Dense(16, 1))\n",
    "ps = Lux.setup(Random.default_rng(), chain)[1]\n",
    "\n",
    "# Transform PDESystem into OptimizationProblem using PINN methodology\n",
    "strategy = QuadratureTraining()\n",
    "discretization_algo = PhysicsInformedNN(chain, strategy, init_params=ps)\n",
    "@named pde_system = PDESystem(eq, boundary_conditions, domains, [t, s], [U(t, s)])\n",
    "optim_prob = discretize(pde_system, discretization_algo)"
   ]
  },
  {
   "cell_type": "code",
   "execution_count": 6,
   "id": "e4b5dbf2",
   "metadata": {},
   "outputs": [],
   "source": [
    "using TickTock"
   ]
  },
  {
   "cell_type": "code",
   "execution_count": 7,
   "id": "dec31436",
   "metadata": {},
   "outputs": [
    {
     "name": "stderr",
     "output_type": "stream",
     "text": [
      "\u001b[36m\u001b[1m[ \u001b[22m\u001b[39m\u001b[36m\u001b[1mInfo: \u001b[22m\u001b[39m started timer at: 2023-01-26T11:43:49.606\n"
     ]
    },
    {
     "name": "stdout",
     "output_type": "stream",
     "text": [
      "Current loss is: 2.4529366607924645\n",
      "Current loss is: 1.5456420895437903\n",
      "Current loss is: 1.4309264352228042\n",
      "Current loss is: 1.424555653238035\n",
      "Current loss is: 1.4186524478402989\n",
      "Current loss is: 1.4179320008545473\n",
      "Current loss is: 1.4096243338431738\n",
      "Current loss is: 1.4048168073315466\n",
      "Current loss is: 1.404553058301421\n",
      "Current loss is: 1.4042095020110374\n",
      "Current loss is: 1.4040148910134675\n",
      "Current loss is: 1.4035690022271885\n",
      "Current loss is: 1.4023936556409526\n",
      "Current loss is: 1.401958722425166\n",
      "Current loss is: 1.3990903394256422\n",
      "Current loss is: 1.3952371310366503\n",
      "Current loss is: 1.3893137145081007\n",
      "Current loss is: 1.3660544323768111\n",
      "Current loss is: 1.3376523192962346\n",
      "Current loss is: 1.3322340231028715\n",
      "Current loss is: 1.3301527030335942\n",
      "Current loss is: 1.3270714403967856\n",
      "Current loss is: 1.3166636861119552\n",
      "Current loss is: 1.3165047344371992\n",
      "Current loss is: 1.3096123302406768\n",
      "Current loss is: 1.151231376447157\n",
      "Current loss is: 0.5070209296040992\n",
      "Current loss is: 0.5044097703809709\n",
      "Current loss is: 0.48022187960684715\n",
      "Current loss is: 0.4800949933597929\n",
      "Current loss is: 0.4650626021686454\n",
      "Current loss is: 0.3878273859901765\n",
      "Current loss is: 0.35320826727066057\n",
      "Current loss is: 0.34770497710319204\n",
      "Current loss is: 0.3295263776024171\n",
      "Current loss is: 0.32433061393371576\n",
      "Current loss is: 0.2611018071936655\n",
      "Current loss is: 0.24229115807238605\n",
      "Current loss is: 0.20768914433821883\n",
      "Current loss is: 0.19037047701280302\n",
      "Current loss is: 0.15549518029076453\n",
      "Current loss is: 0.15016043671838586\n",
      "Current loss is: 0.13549858270233228\n",
      "Current loss is: 0.11901936746021083\n",
      "Current loss is: 0.1101989220793755\n",
      "Current loss is: 0.09698518254207039\n",
      "Current loss is: 0.09015215295688765\n",
      "Current loss is: 0.08942527008376494\n",
      "Current loss is: 0.08478797935125068\n",
      "Current loss is: 0.08350923267985594\n",
      "Current loss is: 0.08137198718501323\n",
      "Current loss is: 0.07685759731400268\n",
      "Current loss is: 0.07040157667376389\n",
      "Current loss is: 0.06793439006756126\n",
      "Current loss is: 0.06755271546794347\n",
      "Current loss is: 0.0674500140319252\n",
      "Current loss is: 0.0674188825758679\n",
      "Current loss is: 0.06699805241170209\n",
      "Current loss is: 0.06675859528292365\n",
      "Current loss is: 0.06646480754252036\n",
      "Current loss is: 0.06400643755821503\n",
      "Current loss is: 0.06120640040346439\n",
      "Current loss is: 0.05988491770349219\n",
      "Current loss is: 0.05927319580973492\n",
      "Current loss is: 0.05330497359045072\n",
      "Current loss is: 0.05211541113714125\n",
      "Current loss is: 0.051836623110545585\n",
      "Current loss is: 0.05178701715068263\n",
      "Current loss is: 0.05083476535659308\n",
      "Current loss is: 0.04767673362433307\n",
      "Current loss is: 0.046569695449106024\n",
      "Current loss is: 0.04567909647342036\n",
      "Current loss is: 0.042945766139635355\n",
      "Current loss is: 0.041526444374825826\n",
      "Current loss is: 0.03154734460136606\n",
      "Current loss is: 0.029515722473720567\n",
      "Current loss is: 0.027103307356136537\n",
      "Current loss is: 0.026250644201965885\n",
      "Current loss is: 0.02491715468558108\n",
      "Current loss is: 0.023530777964459095\n",
      "Current loss is: 0.02297641418191294\n",
      "Current loss is: 0.0219675655761899\n",
      "Current loss is: 0.021537310409381845\n",
      "Current loss is: 0.020148409720916326\n",
      "Current loss is: 0.019593440988544233\n",
      "Current loss is: 0.01796413522639681\n",
      "Current loss is: 0.017121413655750033\n",
      "Current loss is: 0.0167189690302784\n",
      "Current loss is: 0.016600659358115503\n",
      "Current loss is: 0.01647621537349049\n",
      "Current loss is: 0.01627694696360159\n",
      "Current loss is: 0.01574273797220645\n",
      "Current loss is: 0.01534369550775451\n",
      "Current loss is: 0.014997421510473959\n",
      "Current loss is: 0.014950628364057167\n",
      "Current loss is: 0.014418161050468292\n",
      "Current loss is: 0.013971337162755672\n",
      "Current loss is: 0.013644172761379527\n",
      "Current loss is: 0.013477851736599343\n",
      "Current loss is: 0.013423567215479127\n",
      "Current loss is: 0.013421313908338004\n",
      "Current loss is: 0.01299254057612323\n",
      "Current loss is: 0.012793569742866258\n",
      "Current loss is: 0.01270839084993795\n",
      "Current loss is: 0.012653223302171227\n",
      "Current loss is: 0.01261803794732354\n",
      "Current loss is: 0.01261170315205989\n",
      "Current loss is: 0.0125870001273525\n",
      "Current loss is: 0.012562029337756311\n",
      "Current loss is: 0.012547171654591594\n",
      "Current loss is: 0.012542957003470934\n",
      "Current loss is: 0.01252439729247533\n",
      "Current loss is: 0.012498323551614732\n",
      "Current loss is: 0.012433929628333389\n",
      "Current loss is: 0.012372265513437786\n",
      "Current loss is: 0.012316405046716371\n",
      "Current loss is: 0.012258098072111673\n",
      "Current loss is: 0.0121736998435173\n",
      "Current loss is: 0.012096524221845794\n",
      "Current loss is: 0.012051586296047963\n",
      "Current loss is: 0.01201871314751781\n",
      "Current loss is: 0.012015019368458769\n",
      "Current loss is: 0.012005176150466113\n",
      "Current loss is: 0.011997877525699904\n",
      "Current loss is: 0.01198111781792792\n",
      "Current loss is: 0.011972168792533832\n",
      "Current loss is: 0.011962418214524265\n",
      "Current loss is: 0.011927181786275701\n",
      "Current loss is: 0.011899446300888924\n",
      "Current loss is: 0.011836919375156837\n",
      "Current loss is: 0.011801098648967428\n",
      "Current loss is: 0.011784250144820587\n",
      "Current loss is: 0.011764945665923045\n",
      "Current loss is: 0.011722944731874492\n",
      "Current loss is: 0.011681259665597717\n",
      "Current loss is: 0.011620359699134733\n",
      "Current loss is: 0.011607061912463535\n",
      "Current loss is: 0.011571002827090613\n",
      "Current loss is: 0.011472061003461265\n",
      "Current loss is: 0.011411172503321866\n",
      "Current loss is: 0.011378859595248845\n",
      "Current loss is: 0.011337397424532597\n",
      "Current loss is: 0.011313014767665962\n",
      "Current loss is: 0.01131249629615413\n",
      "Current loss is: 0.01119599608244182\n",
      "Current loss is: 0.011145627644758887\n",
      "Current loss is: 0.011122128564922121\n",
      "Current loss is: 0.01108929462930574\n",
      "Current loss is: 0.0110488913828432\n",
      "Current loss is: 0.01100480497659051\n",
      "Current loss is: 0.010966113127207022\n",
      "Current loss is: 0.010918041561352454\n",
      "Current loss is: 0.010861489064288452\n",
      "Current loss is: 0.010838112808116133\n",
      "Current loss is: 0.010799600614418493\n",
      "Current loss is: 0.010785396957245388\n",
      "Current loss is: 0.010773949824397092\n",
      "Current loss is: 0.010772511903116408\n",
      "Current loss is: 0.01070835082954396\n",
      "Current loss is: 0.010647056827158125\n",
      "Current loss is: 0.01058552117079982\n",
      "Current loss is: 0.010531065364879322\n",
      "Current loss is: 0.010506013685226537\n",
      "Current loss is: 0.010490094652692857\n",
      "Current loss is: 0.010457894066326273\n",
      "Current loss is: 0.010433955752437388\n",
      "Current loss is: 0.010374200230177773\n",
      "Current loss is: 0.010365655516690326\n",
      "Current loss is: 0.01034285670153375\n",
      "Current loss is: 0.010314617328575783\n",
      "Current loss is: 0.010302506730085727\n",
      "Current loss is: 0.010280382777302439\n",
      "Current loss is: 0.01027400157236432\n",
      "Current loss is: 0.010249746736541436\n",
      "Current loss is: 0.010224304106960994\n",
      "Current loss is: 0.010201963648634498\n",
      "Current loss is: 0.010182074874885762\n",
      "Current loss is: 0.01017263315125547\n",
      "Current loss is: 0.010172452326576376\n",
      "Current loss is: 0.010166321180167576\n",
      "Current loss is: 0.01016618272637897\n",
      "Current loss is: 0.010165567284243567\n",
      "Current loss is: 0.010156120423385222\n",
      "Current loss is: 0.010149039709348972\n",
      "Current loss is: 0.01013795920841901\n",
      "Current loss is: 0.010118607010027154\n",
      "Current loss is: 0.01009908800498625\n",
      "Current loss is: 0.010092933570507919\n",
      "Current loss is: 0.01008572312217316\n",
      "Current loss is: 0.0100803356949874\n",
      "Current loss is: 0.010074988949861094\n",
      "Current loss is: 0.010066768026667706\n",
      "Current loss is: 0.01005980859604427\n",
      "Current loss is: 0.010048511291051292\n",
      "Current loss is: 0.010046049524912113\n",
      "Current loss is: 0.010033375392155184\n",
      "Current loss is: 0.010028193928915302\n",
      "Current loss is: 0.010020198388744322\n",
      "Current loss is: 0.010019882570378062\n",
      "Current loss is: 0.010006396039565785\n",
      "Current loss is: 0.009994778731375303\n",
      "Current loss is: 0.009974328509750939\n",
      "Current loss is: 0.009941938899362446\n",
      "Current loss is: 0.009923377493367505\n",
      "Current loss is: 0.009920538340995577\n",
      "Current loss is: 0.009916100000300585\n",
      "Current loss is: 0.009900630252734617\n",
      "Current loss is: 0.009890679691915689\n",
      "Current loss is: 0.009875498094774057\n",
      "Current loss is: 0.00987550517564256\n",
      "Current loss is: 0.009875508154835923\n"
     ]
    },
    {
     "name": "stderr",
     "output_type": "stream",
     "text": [
      "\u001b[36m\u001b[1m[ \u001b[22m\u001b[39m\u001b[36m\u001b[1mInfo: \u001b[22m\u001b[39m         86.19272125s: 1 minute, 26 seconds, 192 milliseconds\n"
     ]
    }
   ],
   "source": [
    "tick()\n",
    "callback = function (p,l)\n",
    "    println(\"Current loss is: $l\")\n",
    "    return false\n",
    "end\n",
    "\n",
    "\n",
    "opt = BFGS()\n",
    "result = Optimization.solve(optim_prob, opt, callback = callback, maxiters=2500, reltol=1e-6)\n",
    "result.original\n",
    "phi = discretization_algo.phi\n",
    "tock()"
   ]
  },
  {
   "cell_type": "markdown",
   "id": "2d9b6e1d",
   "metadata": {},
   "source": [
    "## 2-D Plots"
   ]
  },
  {
   "cell_type": "code",
   "execution_count": null,
   "id": "880b117c",
   "metadata": {},
   "outputs": [],
   "source": [
    "dx = 0.5\n",
    "x_domain = Smin:dx:Smax\n",
    "S_domain = collect(x_domain)\n",
    "\n",
    "times = [0, 0.25, 0.5, 1]\n",
    "tau = T .- times\n",
    "plots = Array{Plots.Plot{Plots.GRBackend},1}()\n",
    "for i in 1:(length(times))-1\n",
    "    current_t = times[i]\n",
    "    current_tau = tau[i]\n",
    "    u_predict = [phi([current_t, current_x],result.u) for current_x in x_domain]\n",
    "    u_predict = reduce(vcat, u_predict)/scaling_factor\n",
    "    u_true = CEV_call.(S_domain, current_tau)\n",
    "    push!(plots, plot(S_domain, [u_true, u_predict], label= [\"CEV_True\" \"PINN\"],legend=:topleft, title=\"Tau = $(current_tau)\"))\n",
    "    #push!(plots, plot(S_domain, V_predict, label=\"\"))\n",
    "end\n",
    "\n",
    "u_predict = [phi([times[4], current_x],result.u) for current_x in x_domain]\n",
    "u_predict = reduce(vcat, u_predict)/scaling_factor\n",
    "\n",
    "\n",
    "u_true = collect(max.(S_domain .- K,0))\n",
    "u_true = reduce(vcat, u_true)\n",
    "\n",
    "push!(plots, plot(S_domain, [u_true, u_predict], label= [\"CEV_True\" \"PINN\"],legend=:topleft, title=\"Tau = 0\"))\n",
    "\n",
    "\n",
    "\n",
    "plot(plots[1], plots[2], plots[3], plots[4], layout = 4)"
   ]
  },
  {
   "cell_type": "code",
   "execution_count": null,
   "id": "0a0b323a",
   "metadata": {},
   "outputs": [],
   "source": [
    "u_predict1 = [phi([times[1], current_x],result.u) for current_x in x_domain]\n",
    "u_predict1 = reduce(vcat, u_predict1)/scaling_factor\n",
    "u_true1 = CEV_call.(S_domain, tau[1])\n",
    "\n",
    "u_predict2 = [phi([times[2], current_x],result.u) for current_x in x_domain]\n",
    "u_predict2 = reduce(vcat, u_predict2)/scaling_factor\n",
    "u_true2 = CEV_call.(S_domain, tau[2])\n",
    "\n",
    "u_predict3 = [phi([times[3], current_x],result.u) for current_x in x_domain]\n",
    "u_predict3 = reduce(vcat, u_predict3)/scaling_factor\n",
    "u_true3 = CEV_call.(S_domain, tau[3])\n",
    "\n",
    "u_predict4 = [phi([times[4], current_x],result.u) for current_x in x_domain]\n",
    "u_predict4 = reduce(vcat, u_predict4)/scaling_factor\n",
    "u_true4 = collect(max.(S_domain .- K,0))\n",
    "u_true4 = reduce(vcat, u_true)"
   ]
  },
  {
   "cell_type": "code",
   "execution_count": null,
   "id": "b1661626",
   "metadata": {},
   "outputs": [],
   "source": [
    "using PyPlot\n",
    "using Makie # to enable save function \n",
    "\n",
    "#figure(1);\n",
    "fig = figure(figsize=(10, 10), dpi=1200);\n",
    "#subplots_adjust(hspace=0.5,wspace=0.9)\n",
    "subplot(221) ;  PyPlot.plot(x_domain,u_predict1,color = \"blue\",label = \"PINN\"); PyPlot.plot(x_domain,u_true1,color = \"magenta\", label = \"Analytical\");\n",
    "PyPlot.title(\"Time = 0\",fontweight=\"bold\") ; xlabel(\"S\") ; ylabel(\"Call prices\")\n",
    "; PyPlot.legend(loc=\"upper left\")\n",
    "\n",
    "subplot(222) ;  PyPlot.plot(x_domain,u_predict2,color = \"blue\",label = \"PINN\"); PyPlot.plot(x_domain,u_true2,color = \"magenta\", label = \"Analytical\");\n",
    "PyPlot.title(\"Time = 0.25\",fontweight=\"bold\") ; xlabel(\"S\") ; ylabel(\"Call prices\")\n",
    "; PyPlot.legend(loc=\"upper left\")\n",
    "\n",
    "subplot(223) ;  PyPlot.plot(x_domain,u_predict3,color = \"blue\",label = \"PINN\"); PyPlot.plot(x_domain,u_true3,color = \"magenta\", label = \"Analytical\");\n",
    "PyPlot.title(\"Time = 0.5\",fontweight=\"bold\") ; xlabel(\"S\") ; ylabel(\"Call prices\")\n",
    "; PyPlot.legend(loc=\"upper left\")\n",
    "\n",
    "subplot(224) ;  PyPlot.plot(x_domain,u_predict4,color = \"blue\",label = \"PINN\"); PyPlot.plot(x_domain,u_true4,color = \"magenta\", label = \"Analytical\");\n",
    "PyPlot.title(\"Time = 1\",fontweight=\"bold\") ; xlabel(\"S\") ; ylabel(\"Call prices\")\n",
    "; PyPlot.legend(loc=\"upper left\")\n",
    "\n",
    "fig\n",
    "save(\"./Fig_7.png\", fig)\n"
   ]
  },
  {
   "cell_type": "code",
   "execution_count": null,
   "id": "769a09c7",
   "metadata": {},
   "outputs": [],
   "source": [
    "# first plot\n",
    "\n",
    " \n",
    "#using LaTeXStrings\n",
    "\n",
    "fig = Figure(resolution=(1400, 600), fontsize = 22)\n",
    "ax1 = Axis3(fig[1, 1], perspectiveness=0.2, xlabel = \"S\", ylabel = \"t\", zlabel = \"Call Price\",\n",
    "    title = \"PINN\")\n",
    "ax2 = Axis3(fig[1, 2], perspectiveness=0.2, xlabel = \"S\", ylabel = \"t\", zlabel = \" Call Price\",\n",
    "    title = \"Analytical solution\")\n",
    "\n",
    "GLMakie.surface!(ax1, domain_s , domain_t', predict_matrix1 , transparency = true)\n",
    "GLMakie.surface!(ax2, domain_s, domain_t', analytical_matrix1 , transparency = true)\n",
    "save(\"./Fig_8.png\", fig)\n",
    "fig\n"
   ]
  },
  {
   "cell_type": "code",
   "execution_count": null,
   "id": "a70bb641",
   "metadata": {},
   "outputs": [],
   "source": []
  },
  {
   "cell_type": "code",
   "execution_count": null,
   "id": "6f41c09d",
   "metadata": {},
   "outputs": [],
   "source": []
  },
  {
   "cell_type": "code",
   "execution_count": null,
   "id": "5637bbb6",
   "metadata": {},
   "outputs": [],
   "source": []
  },
  {
   "cell_type": "markdown",
   "id": "2e111a49",
   "metadata": {},
   "source": [
    "## Implied Vol plots"
   ]
  },
  {
   "cell_type": "code",
   "execution_count": null,
   "id": "dc3a2469",
   "metadata": {},
   "outputs": [],
   "source": [
    "\n",
    "\n",
    "CEV_vol(x) = σ*x.^(α-1)\n",
    "vols = CEV_vol(S_domain)\n",
    "\n",
    "plot(x_domain,vols,color = \"blue\")"
   ]
  },
  {
   "cell_type": "code",
   "execution_count": null,
   "id": "0132a89d",
   "metadata": {},
   "outputs": [],
   "source": [
    "using Roots\n",
    "\n",
    "function CEV_vol(S0, price_d)\n",
    "    f(x) = CEV_call(S0, 0) - price_d\n",
    "    vol = find_zero(f , 0.7)\n",
    "    return vol\n",
    "end"
   ]
  },
  {
   "cell_type": "code",
   "execution_count": null,
   "id": "36962733",
   "metadata": {},
   "outputs": [],
   "source": [
    "vols_vec = zeros(length(u_predict1),1)\n",
    "\n",
    "for i in 1:length(u_predict1)\n",
    "    vols_vec[i] = CEV_vol(S_domain[i], u_predict[i])\n",
    "end"
   ]
  },
  {
   "cell_type": "code",
   "execution_count": null,
   "id": "495cce70",
   "metadata": {},
   "outputs": [],
   "source": [
    "plot(S_domain, vols_vec)"
   ]
  },
  {
   "cell_type": "code",
   "execution_count": null,
   "id": "919cd42c",
   "metadata": {},
   "outputs": [],
   "source": []
  }
 ],
 "metadata": {
  "kernelspec": {
   "display_name": "Julia 1.8.0",
   "language": "julia",
   "name": "julia-1.8"
  },
  "language_info": {
   "file_extension": ".jl",
   "mimetype": "application/julia",
   "name": "julia",
   "version": "1.8.0"
  }
 },
 "nbformat": 4,
 "nbformat_minor": 5
}
